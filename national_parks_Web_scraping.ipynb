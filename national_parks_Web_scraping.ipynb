{
  "nbformat": 4,
  "nbformat_minor": 0,
  "metadata": {
    "colab": {
      "provenance": []
    },
    "kernelspec": {
      "name": "python3",
      "display_name": "Python 3"
    },
    "language_info": {
      "name": "python"
    }
  },
  "cells": [
    {
      "cell_type": "code",
      "metadata": {
        "id": "sWR3KqM73Y1E"
      },
      "source": [
        "from bs4 import BeautifulSoup\n",
        "import requests\n",
        "import csv\n",
        "import re\n"
      ],
      "execution_count": null,
      "outputs": []
    },
    {
      "cell_type": "code",
      "metadata": {
        "id": "V7Mktu3o27hL"
      },
      "source": [
        "website = 'https://www.nps.gov/index.htm'\n",
        "response = requests.get(website)"
      ],
      "execution_count": null,
      "outputs": []
    },
    {
      "cell_type": "code",
      "metadata": {
        "id": "EUEDYnQBTuad"
      },
      "source": [
        "soup = BeautifulSoup(response.content,'html.parser')"
      ],
      "execution_count": null,
      "outputs": []
    },
    {
      "cell_type": "code",
      "metadata": {
        "id": "VllDSQ5NT0S7"
      },
      "source": [
        "state_link_variable = soup.find(class_ = 'dropdown-menu SearchBar-keywordSearch')\n",
        "# print(state_link_variable)"
      ],
      "execution_count": null,
      "outputs": []
    },
    {
      "cell_type": "code",
      "metadata": {
        "colab": {
          "base_uri": "https://localhost:8080/",
          "height": 35
        },
        "id": "TQOnmbcKT7of",
        "outputId": "80967f1e-4b4a-4c60-f215-4f5a64af0c31"
      },
      "source": [
        "part_1_url = 'https://www.nps.gov'\n",
        "part_2_url = []\n",
        "\n",
        "'''for part_2_url in state_link_variable:\n",
        "  if part_2_url.find('href') != -1:\n",
        "        print(part_2_url)'''\n",
        "\n",
        "#State Link tags\n",
        "# to find state link tag get the unique href tag and concatenate with part 1 url"
      ],
      "execution_count": null,
      "outputs": [
        {
          "output_type": "execute_result",
          "data": {
            "text/plain": [
              "\"for part_2_url in state_link_variable:\\n  if part_2_url.find('href') != -1:\\n        print(part_2_url)\""
            ],
            "application/vnd.google.colaboratory.intrinsic+json": {
              "type": "string"
            }
          },
          "metadata": {},
          "execution_count": 23
        }
      ]
    },
    {
      "cell_type": "code",
      "metadata": {
        "id": "PISjDG3gUQfP",
        "colab": {
          "base_uri": "https://localhost:8080/",
          "height": 236
        },
        "outputId": "7b184fd7-c35b-46d6-e039-e03145288d6e"
      },
      "source": [
        "state_links_list = []\n",
        "for link in state_link_variable:\n",
        "\n",
        "    if link.find('href') != -1:\n",
        "        \n",
        "        state_link = part_1_url + link.find('a')['href']\n",
        "        #print(state_link)\n",
        "        \n",
        "        state_links_list.append(state_link)\n",
        "\n",
        "\n",
        "#State links\n",
        "#after finding href tag then print all values that are not -1 and add value with part 1 of url "
      ],
      "execution_count": null,
      "outputs": [
        {
          "output_type": "error",
          "ename": "TypeError",
          "evalue": "ignored",
          "traceback": [
            "\u001b[0;31m---------------------------------------------------------------------------\u001b[0m",
            "\u001b[0;31mTypeError\u001b[0m                                 Traceback (most recent call last)",
            "\u001b[0;32m<ipython-input-24-cadbabd84f49>\u001b[0m in \u001b[0;36m<module>\u001b[0;34m\u001b[0m\n\u001b[1;32m      1\u001b[0m \u001b[0mstate_links_list\u001b[0m \u001b[0;34m=\u001b[0m \u001b[0;34m[\u001b[0m\u001b[0;34m]\u001b[0m\u001b[0;34m\u001b[0m\u001b[0;34m\u001b[0m\u001b[0m\n\u001b[0;32m----> 2\u001b[0;31m \u001b[0;32mfor\u001b[0m \u001b[0mlink\u001b[0m \u001b[0;32min\u001b[0m \u001b[0mstate_link_variable\u001b[0m\u001b[0;34m:\u001b[0m\u001b[0;34m\u001b[0m\u001b[0;34m\u001b[0m\u001b[0m\n\u001b[0m\u001b[1;32m      3\u001b[0m \u001b[0;34m\u001b[0m\u001b[0m\n\u001b[1;32m      4\u001b[0m     \u001b[0;32mif\u001b[0m \u001b[0mlink\u001b[0m\u001b[0;34m.\u001b[0m\u001b[0mfind\u001b[0m\u001b[0;34m(\u001b[0m\u001b[0;34m'href'\u001b[0m\u001b[0;34m)\u001b[0m \u001b[0;34m!=\u001b[0m \u001b[0;34m-\u001b[0m\u001b[0;36m1\u001b[0m\u001b[0;34m:\u001b[0m\u001b[0;34m\u001b[0m\u001b[0;34m\u001b[0m\u001b[0m\n\u001b[1;32m      5\u001b[0m \u001b[0;34m\u001b[0m\u001b[0m\n",
            "\u001b[0;31mTypeError\u001b[0m: 'NoneType' object is not iterable"
          ]
        }
      ]
    },
    {
      "cell_type": "code",
      "metadata": {
        "id": "hCdSJMV7x47I"
      },
      "source": [
        "park_name_list = []\n",
        "park_descr_list = []\n",
        "park_type_list = []\n",
        "for links in state_links_list:\n",
        "    response = requests.get(links)\n",
        "    soup = BeautifulSoup(response.content, 'html.parser')\n",
        "    for ul in soup.find_all('ul',id='list_parks'):\n",
        "      for li in ul.find_all('li'):\n",
        "        p = li.find('div',class_='list_left')\n",
        "        if(p is not None):\n",
        "          park_names = p.find('h3').find('a')  \n",
        "          park_name_list.append(park_names.get_text())\n",
        "          park_descr = p.find('p')\n",
        "      \n",
        "          park_descr_list.append(park_descr.get_text().strip())\n",
        "          park_type = p.find('h2')\n",
        "          park_type_list.append(park_type.get_text())\n",
        "#print(park_name_list)\n",
        "#print(park_descr_list)\n",
        "#print(park_type_list)\n",
        "\n",
        "#to get park name, category, description \n",
        "#store all values we are looking for in an empty list and iterate through state links list\n",
        "#through the sections ul, li and to find specific tags to find park name, description, and type"
      ],
      "execution_count": null,
      "outputs": []
    },
    {
      "cell_type": "code",
      "metadata": {
        "id": "Ak3kuEw_UaH-"
      },
      "source": [
        "address_Line1 =[]\n",
        "address_Line2 =[]\n",
        "address_Line3 = []\n",
        "park_street_address = []\n",
        "park_City = []\n",
        "park_region =[]\n",
        "park_postalCode =[]\n",
        "park_phone_num_l= []\n",
        "for links in state_links_list:\n",
        "  response = requests.get(links)\n",
        "  soup = BeautifulSoup(response.content,'html.parser')\n",
        "  parks_names = soup.find_all('h3')\n",
        "  #print(parks_names)\n",
        "  park_link_list = []\n",
        "  for links_p in parks_names:\n",
        "    links_tag = links_p.findChild('a')\n",
        "    #print(links_tag)\n",
        "    if links_tag != None:\n",
        "      park_link = 'https://www.nps.gov' + links_tag['href'] + 'index.htm'\n",
        "      #print(park_link)\n",
        "      park_link_list.append(park_link)\n",
        "\n",
        "  for links_ in park_link_list:\n",
        "      response = requests.get(links_)\n",
        "      soup = BeautifulSoup(response.content, 'html.parser')\n",
        "      \n",
        "      if(soup.find('span',itemprop=\"telephone\")):\n",
        "        park_phone_num = soup.find('span',itemprop=\"telephone\")\n",
        "        park_phone_num_l.append(park_phone_num.get_text().strip())\n",
        "      else:\n",
        "         park_phone_num_l.append('')\n",
        "      if(soup.find('p', {'class': 'adr'})):\n",
        "          park_address = soup.find('p', {'class': 'adr'})\n",
        "          if(park_address.find('span',class_='street-address')):\n",
        "              address_park = park_address.find('span',class_='street-address')\n",
        "              park_street_address.append(address_park.get_text().strip())\n",
        "          else:\n",
        "              park_street_address.append('')\n",
        "              \n",
        "          if(park_address.find('span',itemprop=\"addressLocality\")):\n",
        "              parkLocality = park_address.find('span',itemprop=\"addressLocality\")\n",
        "              park_City.append(parkLocality.get_text())\n",
        "          else:\n",
        "              park_City.append('')\n",
        "          \n",
        "          if(park_address.find('span',class_='region')):\n",
        "              parkRegion = park_address.find('span',class_='region')\n",
        "              park_region.append(parkRegion.get_text())\n",
        "          else:\n",
        "              park_region.append('')\n",
        "              \n",
        "          if(park_address.find('span',class_='postal-code')):\n",
        "              parkPostalCode = park_address.find('span',class_='postal-code')\n",
        "              park_postalCode.append(parkPostalCode.get_text().strip())\n",
        "          else:\n",
        "              park_postalCode.append('')\n",
        "                        \n",
        "      else:\n",
        "          park_street_address.append('')\n",
        "          park_City.append('') \n",
        "          park_region.append('')\n",
        "          park_postalCode.append('')\n",
        "\n",
        "\n",
        "    \n",
        "      \n",
        "    \n",
        "#print(park_street_address)\n",
        "#print(park_City)\n",
        "#print(park_region)\n",
        "#print(park_postalCode) \n",
        "#print(park_phone_num_l) \n",
        "\n",
        "\n",
        "\n",
        "for str in park_street_address:\n",
        "  addStr = re.split('\\n',str)\n",
        "  address_Line1.append(addStr[0])\n",
        "  if (len(addStr)==2):\n",
        "    address_Line2.append(addStr[1])\n",
        "    if (len(addStr)==3):\n",
        "     address_Line3.append(addStr[2])\n",
        "    else:\n",
        "     address_Line3.append('')\n",
        "  else:\n",
        "    address_Line2.append('')\n",
        "    address_Line3.append('')   \n",
        "\n",
        "\n",
        "\n",
        "#to get park street address, park city, park region, park postal code\n",
        "#loop through state link lists to find park links\n",
        "#then through park links iterate to find specific tags attached to street address,\n",
        "#city, region, postalcode, and phone number\n",
        "\n"
      ],
      "execution_count": null,
      "outputs": []
    },
    {
      "cell_type": "code",
      "metadata": {
        "id": "ZC8GedXWSlXo"
      },
      "source": [
        "with open('park_info.csv', 'w', newline='') as csvfile:\n",
        "  writer = csv.writer(csvfile)\n",
        "  writer.writerow(['Name', 'Category','Description', 'Street address 1','Street address 2','Street address 3', 'City', 'State', 'Zip Code','Phone Number'])\n",
        "  writer.writerows(zip(park_name_list, park_type_list, park_descr_list, address_Line1, address_Line2 ,address_Line3 , park_City , park_region , park_postalCode , park_phone_num_l))\n",
        "\n"
      ],
      "execution_count": null,
      "outputs": []
    }
  ]
}